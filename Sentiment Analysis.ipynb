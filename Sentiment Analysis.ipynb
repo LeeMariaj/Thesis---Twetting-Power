{
 "cells": [
  {
   "cell_type": "code",
   "execution_count": 1,
   "id": "236be97a",
   "metadata": {},
   "outputs": [
    {
     "name": "stderr",
     "output_type": "stream",
     "text": [
      "[nltk_data] Downloading package names to\n",
      "[nltk_data]     C:\\Users\\maria\\AppData\\Roaming\\nltk_data...\n",
      "[nltk_data]   Package names is already up-to-date!\n",
      "[nltk_data] Downloading package stopwords to\n",
      "[nltk_data]     C:\\Users\\maria\\AppData\\Roaming\\nltk_data...\n",
      "[nltk_data]   Package stopwords is already up-to-date!\n",
      "[nltk_data] Downloading package averaged_perceptron_tagger to\n",
      "[nltk_data]     C:\\Users\\maria\\AppData\\Roaming\\nltk_data...\n",
      "[nltk_data]   Package averaged_perceptron_tagger is already up-to-\n",
      "[nltk_data]       date!\n",
      "[nltk_data] Downloading package vader_lexicon to\n",
      "[nltk_data]     C:\\Users\\maria\\AppData\\Roaming\\nltk_data...\n",
      "[nltk_data]   Package vader_lexicon is already up-to-date!\n",
      "[nltk_data] Downloading package punkt to\n",
      "[nltk_data]     C:\\Users\\maria\\AppData\\Roaming\\nltk_data...\n",
      "[nltk_data]   Package punkt is already up-to-date!\n"
     ]
    }
   ],
   "source": [
    "import nltk\n",
    "\n",
    "nltk.download([\n",
    "    \"names\",\n",
    "    \"stopwords\",\n",
    "    \"averaged_perceptron_tagger\",\n",
    "    \"vader_lexicon\",\n",
    "    \"punkt\", ])\n",
    "\n",
    "from nltk.sentiment import SentimentIntensityAnalyzer\n",
    "import pandas as pd\n",
    "import re\n",
    "from deep_translator import GoogleTranslator\n",
    "from datetime import datetime"
   ]
  },
  {
   "cell_type": "code",
   "execution_count": 2,
   "id": "78b828d8",
   "metadata": {
    "scrolled": true
   },
   "outputs": [],
   "source": [
    "# Loading the database\n",
    "df = pd.read_excel(r\"tweets.xlsx\")\n",
    "\n",
    "# Filing out any empty spaces with 0\n",
    "df.iloc[:, 7 : ] = df.iloc[:, 7 : ].fillna(0)\n",
    "\n",
    "# Converting \"day\", \"month\", \"likes\", and \"retweets\" to integer type variables\n",
    "df = df.astype({\"day\": int, \"month\": int})\n",
    "\n",
    "# Creating a year variable\n",
    "df[\"year\"] = 2022\n",
    "\n",
    "# Identify index of rows with no content in the tweet column\n",
    "no_tweets = df.index[df[\"tweet\"].isnull()].tolist()\n",
    "\n",
    "# Filtering out the tweets with no content in the tweet column\n",
    "df = df.drop(no_tweets)\n",
    "\n",
    "# # Re-setting the index after dropping rows\n",
    "df.reset_index(drop=True, inplace=True)"
   ]
  },
  {
   "cell_type": "markdown",
   "id": "6e6aa155",
   "metadata": {},
   "source": [
    "# Sentiment Analysis"
   ]
  },
  {
   "cell_type": "code",
   "execution_count": 3,
   "id": "7ce26982",
   "metadata": {},
   "outputs": [],
   "source": [
    "# sia = SentimentIntensityAnalyzer()"
   ]
  },
  {
   "cell_type": "code",
   "execution_count": 4,
   "id": "b2077c48",
   "metadata": {},
   "outputs": [],
   "source": [
    "# tweet = list(df[\"tweet\"])\n",
    "# len(tweet)"
   ]
  },
  {
   "cell_type": "code",
   "execution_count": 5,
   "id": "e5b6949a",
   "metadata": {
    "scrolled": true
   },
   "outputs": [],
   "source": [
    "# score = []\n",
    "# tweet_i = []\n",
    "# i = 0\n",
    "# for t in tweet:\n",
    "#     x = re.search(\"[a-zA-Z]+\", str(t))\n",
    "#     if (x != None):\n",
    "#         t_1 = str(t).replace(\"\\n\", \" \").replace('\"', \"\")\n",
    "#         t_2 = GoogleTranslator(source='auto', target='en').translate(t_1)\n",
    "#         t_3 = sia.polarity_scores(t_2)[\"compound\"]\n",
    "#         score.append(t_3)\n",
    "#     else:\n",
    "#         score.append(999)\n",
    "#     if i % 100 == 0:\n",
    "#         now = datetime.now()\n",
    "#         print(i, now.strftime(\"%H:%M:%S\"))\n",
    "#         df_score = pd.DataFrame(score, columns=[\"score\"]) \n",
    "#         df_score.to_excel(\"score2.xlsx\", index=False) \n",
    "#     i = 1 + i\n",
    "#     tweet_i.append(t)"
   ]
  },
  {
   "cell_type": "code",
   "execution_count": 6,
   "id": "5a42cd15",
   "metadata": {},
   "outputs": [],
   "source": [
    "# df_score = pd.DataFrame(score, columns=[\"score\"]) \n",
    "# df_score.to_excel(\"score2.xlsx\", index=False) "
   ]
  },
  {
   "cell_type": "markdown",
   "id": "6229bd72",
   "metadata": {},
   "source": [
    "# Combining the Score with the rest of the database"
   ]
  },
  {
   "cell_type": "code",
   "execution_count": 7,
   "id": "d2f27c78",
   "metadata": {},
   "outputs": [
    {
     "data": {
      "text/plain": [
       "21506"
      ]
     },
     "execution_count": 7,
     "metadata": {},
     "output_type": "execute_result"
    }
   ],
   "source": [
    "# Loading the database\n",
    "df_2 = pd.read_excel(r\"score.xlsx\")\n",
    "len(df_2)"
   ]
  },
  {
   "cell_type": "code",
   "execution_count": 8,
   "id": "f541ec37",
   "metadata": {},
   "outputs": [
    {
     "data": {
      "text/plain": [
       "21506"
      ]
     },
     "execution_count": 8,
     "metadata": {},
     "output_type": "execute_result"
    }
   ],
   "source": [
    "final = pd.merge(df, df_2, left_index=True, right_index=True)\n",
    "len(final)"
   ]
  },
  {
   "cell_type": "code",
   "execution_count": 9,
   "id": "d9f074d7",
   "metadata": {
    "scrolled": false
   },
   "outputs": [],
   "source": [
    "final[\"positive\"] = 0\n",
    "final[\"negative\"] = 0"
   ]
  },
  {
   "cell_type": "code",
   "execution_count": 10,
   "id": "3cad624f",
   "metadata": {},
   "outputs": [
    {
     "name": "stderr",
     "output_type": "stream",
     "text": [
      "C:\\Users\\maria\\AppData\\Local\\Temp\\ipykernel_1980\\2533678526.py:13: SettingWithCopyWarning: \n",
      "A value is trying to be set on a copy of a slice from a DataFrame\n",
      "\n",
      "See the caveats in the documentation: https://pandas.pydata.org/pandas-docs/stable/user_guide/indexing.html#returning-a-view-versus-a-copy\n",
      "  final[\"positive\"][i] = 1\n",
      "C:\\Users\\maria\\AppData\\Local\\Temp\\ipykernel_1980\\2533678526.py:10: SettingWithCopyWarning: \n",
      "A value is trying to be set on a copy of a slice from a DataFrame\n",
      "\n",
      "See the caveats in the documentation: https://pandas.pydata.org/pandas-docs/stable/user_guide/indexing.html#returning-a-view-versus-a-copy\n",
      "  final[\"negative\"][i] = 1\n"
     ]
    },
    {
     "data": {
      "text/html": [
       "<div>\n",
       "<style scoped>\n",
       "    .dataframe tbody tr th:only-of-type {\n",
       "        vertical-align: middle;\n",
       "    }\n",
       "\n",
       "    .dataframe tbody tr th {\n",
       "        vertical-align: top;\n",
       "    }\n",
       "\n",
       "    .dataframe thead th {\n",
       "        text-align: right;\n",
       "    }\n",
       "</style>\n",
       "<table border=\"1\" class=\"dataframe\">\n",
       "  <thead>\n",
       "    <tr style=\"text-align: right;\">\n",
       "      <th></th>\n",
       "      <th>score</th>\n",
       "      <th>positive</th>\n",
       "      <th>negative</th>\n",
       "    </tr>\n",
       "  </thead>\n",
       "  <tbody>\n",
       "    <tr>\n",
       "      <th>count</th>\n",
       "      <td>21441.000000</td>\n",
       "      <td>21441.000000</td>\n",
       "      <td>21441.000000</td>\n",
       "    </tr>\n",
       "    <tr>\n",
       "      <th>mean</th>\n",
       "      <td>0.210176</td>\n",
       "      <td>0.576139</td>\n",
       "      <td>0.244298</td>\n",
       "    </tr>\n",
       "    <tr>\n",
       "      <th>std</th>\n",
       "      <td>0.516355</td>\n",
       "      <td>0.494180</td>\n",
       "      <td>0.429680</td>\n",
       "    </tr>\n",
       "    <tr>\n",
       "      <th>min</th>\n",
       "      <td>-0.978100</td>\n",
       "      <td>0.000000</td>\n",
       "      <td>0.000000</td>\n",
       "    </tr>\n",
       "    <tr>\n",
       "      <th>25%</th>\n",
       "      <td>0.000000</td>\n",
       "      <td>0.000000</td>\n",
       "      <td>0.000000</td>\n",
       "    </tr>\n",
       "    <tr>\n",
       "      <th>50%</th>\n",
       "      <td>0.273200</td>\n",
       "      <td>1.000000</td>\n",
       "      <td>0.000000</td>\n",
       "    </tr>\n",
       "    <tr>\n",
       "      <th>75%</th>\n",
       "      <td>0.659700</td>\n",
       "      <td>1.000000</td>\n",
       "      <td>0.000000</td>\n",
       "    </tr>\n",
       "    <tr>\n",
       "      <th>max</th>\n",
       "      <td>0.993300</td>\n",
       "      <td>1.000000</td>\n",
       "      <td>1.000000</td>\n",
       "    </tr>\n",
       "  </tbody>\n",
       "</table>\n",
       "</div>"
      ],
      "text/plain": [
       "              score      positive      negative\n",
       "count  21441.000000  21441.000000  21441.000000\n",
       "mean       0.210176      0.576139      0.244298\n",
       "std        0.516355      0.494180      0.429680\n",
       "min       -0.978100      0.000000      0.000000\n",
       "25%        0.000000      0.000000      0.000000\n",
       "50%        0.273200      1.000000      0.000000\n",
       "75%        0.659700      1.000000      0.000000\n",
       "max        0.993300      1.000000      1.000000"
      ]
     },
     "execution_count": 10,
     "metadata": {},
     "output_type": "execute_result"
    }
   ],
   "source": [
    "# Filtering the ones with no sentiment score\n",
    "final = final[final[\"score\"] != 999]\n",
    "\n",
    "# Re-setting the index after dropping rows\n",
    "final.reset_index(drop=True, inplace=True)\n",
    "\n",
    "# Assinging a value to the column\n",
    "for i in range(len(final)):\n",
    "    if final[\"score\"][i] < -0.05:\n",
    "        final[\"negative\"][i] = 1\n",
    "        \n",
    "    elif final[\"score\"][i] > 0.05:\n",
    "        final[\"positive\"][i] = 1\n",
    "        \n",
    "    else:\n",
    "        continue\n",
    "        \n",
    "final[[\"score\",\"positive\", \"negative\"]].describe()\n"
   ]
  },
  {
   "cell_type": "code",
   "execution_count": 11,
   "id": "ff64003c",
   "metadata": {},
   "outputs": [],
   "source": [
    "final.to_csv('data_final.csv')"
   ]
  }
 ],
 "metadata": {
  "kernelspec": {
   "display_name": "Python 3 (ipykernel)",
   "language": "python",
   "name": "python3"
  },
  "language_info": {
   "codemirror_mode": {
    "name": "ipython",
    "version": 3
   },
   "file_extension": ".py",
   "mimetype": "text/x-python",
   "name": "python",
   "nbconvert_exporter": "python",
   "pygments_lexer": "ipython3",
   "version": "3.9.13"
  }
 },
 "nbformat": 4,
 "nbformat_minor": 5
}
